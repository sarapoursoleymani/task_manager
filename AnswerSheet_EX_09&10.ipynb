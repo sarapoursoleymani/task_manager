{
 "cells": [
  {
   "cell_type": "markdown",
   "id": "29d8f8d6",
   "metadata": {},
   "source": [
    "<div style=\"color: white;padding-top:18px;text-align:center;background-color:#8B008B;border-radius:15px;border: 1px solid white;\"> \n",
    "    <h3>Exercise 9 (score:300+50)</h3>\n",
    "</div>"
   ]
  },
  {
   "cell_type": "markdown",
   "id": "4431989d",
   "metadata": {},
   "source": [
    "<div style=\"color: black;font-family:Georgia;padding-top:18px;text-align:left;background-color:lightskyblue;border-radius:15px;border: 2px solid cornflowerblue;\">\n",
    "    <h4>Question 01 (Project)(100):</h4>\n",
    "    <p>\n",
    "        write project6 by dictionary\n",
    "    </p>\n",
    "</div>"
   ]
  },
  {
   "cell_type": "code",
   "execution_count": 2,
   "id": "c7ac71c0",
   "metadata": {},
   "outputs": [
    {
     "name": "stdout",
     "output_type": "stream",
     "text": [
      "Task added!\n",
      "1. Name: t, Status: Incomplete, Duration: Not set hours\n",
      "Total tasks: 1, Completed: 0, Uncompleted: 1, Total hours: 0\n"
     ]
    }
   ],
   "source": [
    "tasks = {}\n",
    "\n",
    "def add_task():\n",
    "    name = input(\"Task name: \").lower()\n",
    "    if name not in tasks:\n",
    "        tasks[name] = {\"status\": False, \"duration\": None}\n",
    "        print(\"Task added!\")\n",
    "    else:\n",
    "        print(\"Task already exists!\")\n",
    "\n",
    "def display_tasks():\n",
    "    for i, (name, details) in enumerate(tasks.items()):\n",
    "        status = \"Complete\" if details[\"status\"] else \"Incomplete\"\n",
    "        duration = details[\"duration\"] if details[\"duration\"] is not None else \"Not set\"\n",
    "        print(f\"{i + 1}. Name: {name}, Status: {status}, Duration: {duration} hours\")\n",
    "\n",
    "def edit_task():\n",
    "    name = input(\"Enter the name of the task to edit: \").lower()\n",
    "    if name in tasks:\n",
    "        new_name = input(\"Enter the new name: \").lower()\n",
    "        if new_name not in tasks:\n",
    "            tasks[new_name] = tasks.pop(name)\n",
    "            print(\"Task edited!\")\n",
    "        else:\n",
    "            print(\"Task with this name already exists!\")\n",
    "    else:\n",
    "        print(\"Task not found!\")\n",
    "\n",
    "def remove_task():\n",
    "    name = input(\"Enter the name of the task to remove: \").lower()\n",
    "    if name in tasks:\n",
    "        del tasks[name]\n",
    "        print(\"Task removed!\")\n",
    "    else:\n",
    "        print(\"Task not found!\")\n",
    "\n",
    "def search_task():\n",
    "    name = input(\"Enter the name of the task to search: \").lower()\n",
    "    if name in tasks:\n",
    "        details = tasks[name]\n",
    "        status = \"Complete\" if details[\"status\"] else \"Incomplete\"\n",
    "        duration = details[\"duration\"] if details[\"duration\"] is not None else \"Not set\"\n",
    "        print(f\"Found: {name}, Status: {status}, Duration: {duration} hours\")\n",
    "    else:\n",
    "        print(\"Task not found!\")\n",
    "\n",
    "def show_details():\n",
    "    completed_tasks = sum(1 for details in tasks.values() if details[\"status\"])\n",
    "    uncompleted_tasks = len(tasks) - completed_tasks\n",
    "    total_hours = sum(filter(None, (details[\"duration\"] for details in tasks.values())))\n",
    "    print(f\"Total tasks: {len(tasks)}, Completed: {completed_tasks}, Uncompleted: {uncompleted_tasks}, Total hours: {total_hours}\")\n",
    "\n",
    "def complete_task():\n",
    "    name = input(\"Enter the name of the task to mark as complete: \").lower()\n",
    "    if name in tasks:\n",
    "        if not tasks[name][\"status\"]:\n",
    "            try:\n",
    "                duration = int(input(\"Enter the duration in hours: \"))\n",
    "                tasks[name][\"status\"] = True\n",
    "                tasks[name][\"duration\"] = duration\n",
    "                print(\"Task marked as complete!\")\n",
    "            except ValueError:\n",
    "                print(\"Invalid duration input. Please enter an integer.\")\n",
    "        else:\n",
    "            print(\"Task is already marked as complete!\")\n",
    "    else:\n",
    "        print(\"Task not found!\")\n",
    "\n",
    "def help_message():\n",
    "    print(\"\"\"\n",
    "    add - Add a new task\n",
    "    display - Display all tasks with their status and duration\n",
    "    edit - Edit the name of an existing task\n",
    "    remove - Remove a task by its name\n",
    "    search - Search for a task by its name\n",
    "    details - Show details of completed and uncompleted tasks, and total hours worked\n",
    "    complete - Mark a task as complete and record its duration\n",
    "    help - Display this help message\n",
    "    exit - Exit the program\n",
    "    \"\"\")\n",
    "\n",
    "def main():\n",
    "    while True:\n",
    "        answer = input(\"add, display, edit, remove, search, details, complete, help, exit: \").lower()\n",
    "        \n",
    "        if answer == \"add\":\n",
    "            add_task()\n",
    "        elif answer == \"display\":\n",
    "            display_tasks()\n",
    "        elif answer == \"edit\":\n",
    "            edit_task()\n",
    "        elif answer == \"remove\":\n",
    "            remove_task()\n",
    "        elif answer == \"search\":\n",
    "            search_task()\n",
    "        elif answer == \"details\":\n",
    "            show_details()\n",
    "        elif answer == \"complete\":\n",
    "            complete_task()\n",
    "        elif answer == \"help\":\n",
    "            help_message()\n",
    "        elif answer == \"exit\":\n",
    "            break\n",
    "        else:\n",
    "            print(\"Invalid command! Type 'help' for a list of commands.\")\n",
    "\n",
    "if __name__ == \"__main__\":\n",
    "    main()"
   ]
  },
  {
   "cell_type": "markdown",
   "id": "fb7a8054",
   "metadata": {},
   "source": [
    "<div style=\"color: white;padding-top:18px;text-align:center;background-color:#8B008B;border-radius:15px;border: 1px solid white;\"> \n",
    "    <h3>Exercise 10 (score:200+50)</h3>\n",
    "</div>"
   ]
  },
  {
   "cell_type": "markdown",
   "id": "bd5458df",
   "metadata": {},
   "source": [
    "<div style=\"color: black;font-family:Georgia;padding-top:18px;text-align:left;background-color:lightskyblue;border-radius:15px;border: 2px solid cornflowerblue;\">\n",
    "    <h4>Question 01 (Function)(100):</h4>\n",
    "    <p>\n",
    "        Implement a recursive Python function that asks for a student's score \n",
    "        until it receives a value between 0 and 20, then returns that valid score.\n",
    "    </p>\n",
    "</div>"
   ]
  },
  {
   "cell_type": "code",
   "execution_count": null,
   "id": "ff88e96c",
   "metadata": {},
   "outputs": [],
   "source": [
    "#write code here"
   ]
  },
  {
   "cell_type": "markdown",
   "id": "014bb5de",
   "metadata": {},
   "source": [
    "<div style=\"color: black;font-family:Georgia;padding-top:18px;text-align:left;background-color:lightskyblue;border-radius:15px;border: 2px solid cornflowerblue;\">\n",
    "    <h4>Question 02 (Function)(100):</h4>\n",
    "    <p>\n",
    "        Create a Python function that recursively multiplies all the numbers between two user provided integers.\n",
    "    </p>\n",
    "</div>"
   ]
  },
  {
   "cell_type": "code",
   "execution_count": null,
   "id": "575abb33",
   "metadata": {},
   "outputs": [],
   "source": [
    "#write code here"
   ]
  },
  {
   "cell_type": "markdown",
   "id": "293056e3",
   "metadata": {},
   "source": [
    "<h2 style=\"color: blue:; background-color: purple\">You automaticly lose the chance you dont take.Trust yourself. you can do this</h2>"
   ]
  }
 ],
 "metadata": {
  "kernelspec": {
   "display_name": "Python 3 (ipykernel)",
   "language": "python",
   "name": "python3"
  },
  "language_info": {
   "codemirror_mode": {
    "name": "ipython",
    "version": 3
   },
   "file_extension": ".py",
   "mimetype": "text/x-python",
   "name": "python",
   "nbconvert_exporter": "python",
   "pygments_lexer": "ipython3",
   "version": "3.12.4"
  }
 },
 "nbformat": 4,
 "nbformat_minor": 5
}
